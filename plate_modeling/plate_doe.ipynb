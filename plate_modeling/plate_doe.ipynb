{
 "cells": [
  {
   "cell_type": "markdown",
   "metadata": {},
   "source": [
    "# Laminate Plate\n",
    "\n",
    "---\n",
    "\n",
    "Generate a dataset of plane laminate responses to fit a monomial-standard model.\n"
   ]
  },
  {
   "cell_type": "code",
   "execution_count": 1,
   "metadata": {},
   "outputs": [],
   "source": [
    "import grama as gr\n",
    "import numpy as np\n",
    "from grama.models import make_composite_plate_tension\n",
    "\n",
    "X = gr.Intention()\n",
    "\n",
    "md_plate = make_composite_plate_tension([-np.pi/4, +np.pi/4])"
   ]
  },
  {
   "cell_type": "code",
   "execution_count": 2,
   "metadata": {},
   "outputs": [
    {
     "name": "stdout",
     "output_type": "stream",
     "text": [
      "model: Composite Plate in Tension m45-p45\n",
      "\n",
      "  inputs:\n",
      "    var_det:\n",
      "    var_rand:\n",
      "      E1_0: (+0) lognorm, {'loc': 1, 's': 0.02, 'scale': 114000000000.0}\n",
      "      E2_0: (+0) lognorm, {'loc': 1, 's': 0.08, 'scale': 7000000000.0}\n",
      "      nu12_0: (+0) norm, {'loc': 0.45, 'scale': 0.036000000000000004}\n",
      "      G12_0: (+0) lognorm, {'loc': 1, 's': 0.1, 'scale': 4000000000.0}\n",
      "      theta_0: (+0) uniform, {'loc': -0.8377580409572781, 'scale': 0.10471975511965977}\n",
      "      t_0: (+0) uniform, {'loc': 0.00099, 'scale': 2e-05}\n",
      "      sigma_11_t_0: (-1) lognorm, {'loc': 1, 's': 0.06, 'scale': 1400000000.0}\n",
      "      sigma_22_t_0: (-1) lognorm, {'loc': 1, 's': 0.06, 'scale': 1400000.0}\n",
      "      sigma_11_c_0: (-1) lognorm, {'loc': 1, 's': 0.06, 'scale': 500000000.0}\n",
      "      sigma_22_c_0: (-1) lognorm, {'loc': 1, 's': 0.06, 'scale': 500000.0}\n",
      "      sigma_12_s_0: (-1) lognorm, {'loc': 1, 's': 0.07, 'scale': 62000000.0}\n",
      "      E1_1: (+0) lognorm, {'loc': 1, 's': 0.02, 'scale': 114000000000.0}\n",
      "      E2_1: (+0) lognorm, {'loc': 1, 's': 0.08, 'scale': 7000000000.0}\n",
      "      nu12_1: (+0) norm, {'loc': 0.45, 'scale': 0.036000000000000004}\n",
      "      G12_1: (+0) lognorm, {'loc': 1, 's': 0.1, 'scale': 4000000000.0}\n",
      "      theta_1: (+0) uniform, {'loc': 0.7330382858376184, 'scale': 0.10471975511965977}\n",
      "      t_1: (+0) uniform, {'loc': 0.00099, 'scale': 2e-05}\n",
      "      sigma_11_t_1: (-1) lognorm, {'loc': 1, 's': 0.06, 'scale': 1400000000.0}\n",
      "      sigma_22_t_1: (-1) lognorm, {'loc': 1, 's': 0.06, 'scale': 1400000.0}\n",
      "      sigma_11_c_1: (-1) lognorm, {'loc': 1, 's': 0.06, 'scale': 500000000.0}\n",
      "      sigma_22_c_1: (-1) lognorm, {'loc': 1, 's': 0.06, 'scale': 500000.0}\n",
      "      sigma_12_s_1: (-1) lognorm, {'loc': 1, 's': 0.07, 'scale': 62000000.0}\n",
      "      Nx: (+1) norm, {'loc': 1200000.0, 'scale': 120000.0}\n",
      "    copula:\n",
      "        Independence copula\n",
      "  functions:\n",
      "    limit states: ['E1_0', 'E2_0', 'nu12_0', 'G12_0', 'theta_0', 't_0', 'sigma_11_t_0', 'sigma_22_t_0', 'sigma_11_c_0', 'sigma_22_c_0', 'sigma_12_s_0', 'E1_1', 'E2_1', 'nu12_1', 'G12_1', 'theta_1', 't_1', 'sigma_11_t_1', 'sigma_22_t_1', 'sigma_11_c_1', 'sigma_22_c_1', 'sigma_12_s_1', 'Nx'] -> ['g_11_tension_0', 'g_22_tension_0', 'g_11_compression_0', 'g_22_compression_0', 'g_12_shear_0', 'g_11_tension_1', 'g_22_tension_1', 'g_11_compression_1', 'g_22_compression_1', 'g_12_shear_1']\n"
     ]
    }
   ],
   "source": [
    "md_plate.printpretty()"
   ]
  },
  {
   "cell_type": "code",
   "execution_count": null,
   "metadata": {},
   "outputs": [
    {
     "name": "stdout",
     "output_type": "stream",
     "text": [
      "eval_monte_carlo() is rounding n...\n"
     ]
    }
   ],
   "source": [
    "## For reproducibility\n",
    "np.random.seed(101)\n",
    "\n",
    "## Generate data\n",
    "df_data = (\n",
    "    md_plate\n",
    "    >> gr.cp_marginals(\n",
    "        t_0=dict(dist=\"uniform\", loc=0.05, scale=0.05),\n",
    "        t_1=dict(dist=\"uniform\", loc=0.05, scale=0.05),\n",
    "    )\n",
    "    >> gr.ev_monte_carlo(n=1e5, df_det=\"nom\")\n",
    ")\n",
    "\n",
    "## Save the dataset\n",
    "df_data.to_csv(\"../data/plate_sim.csv\", index=False, index_label=False)\n",
    "\n",
    "## Reliability values\n",
    "(\n",
    "    df_data\n",
    "    >> gr.tf_summarize(\n",
    "        R_11_tension_0 = gr.mean(X.g_11_tension_0 > 0),\n",
    "        R_11_tension_1 = gr.mean(X.g_11_tension_1 > 0),\n",
    "        R_22_tension_0 = gr.mean(X.g_22_tension_0 > 0),\n",
    "        R_22_tension_1 = gr.mean(X.g_22_tension_1 > 0),\n",
    "    )\n",
    ")"
   ]
  }
 ],
 "metadata": {
  "kernelspec": {
   "display_name": "Python 3",
   "language": "python",
   "name": "python3"
  },
  "language_info": {
   "codemirror_mode": {
    "name": "ipython",
    "version": 3
   },
   "file_extension": ".py",
   "mimetype": "text/x-python",
   "name": "python",
   "nbconvert_exporter": "python",
   "pygments_lexer": "ipython3",
   "version": "3.7.4"
  }
 },
 "nbformat": 4,
 "nbformat_minor": 4
}
