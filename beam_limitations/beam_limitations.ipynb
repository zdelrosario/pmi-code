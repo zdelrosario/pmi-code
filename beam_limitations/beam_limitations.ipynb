{
 "cells": [
  {
   "cell_type": "markdown",
   "id": "foster-farming",
   "metadata": {},
   "source": [
    "# Study Limitations of Lognormal Modeling in the PMI Methodology\n",
    "\n",
    "---\n",
    "\n",
    "*Purpose*: The PMI assumes lognormal marginal distributions to provide analytic expressions. What is the consequence of this assumption? The purpose of this computational essay is to probe the limitations of the lognormal assumption.\n",
    "\n",
    "Below, we shall see that the lognormal approximation tends to be accurate in cases where the underlying variability is small, as measured by the coefficient of variation (COV). Larger departures occur at higher variabilities, but within a typical range of COV's encountered in aerospace-grade materials, the departures are acceptable for conceptual design purposes.\n"
   ]
  },
  {
   "cell_type": "code",
   "execution_count": 1,
   "id": "dried-talent",
   "metadata": {},
   "outputs": [],
   "source": [
    "import grama as gr\n",
    "import numpy as np\n",
    "import pandas as pd\n",
    "from plotnine import *\n",
    "\n",
    "DF = gr.Intention()"
   ]
  },
  {
   "cell_type": "markdown",
   "id": "common-cooking",
   "metadata": {},
   "source": [
    "## Construct beam problem\n",
    "\n",
    "Construct the strength-constrained beam problem\n"
   ]
  },
  {
   "cell_type": "code",
   "execution_count": 2,
   "id": "demographic-samoa",
   "metadata": {},
   "outputs": [],
   "source": [
    "## Set fixed parameters globally\n",
    "l = 1      # Beam length\n",
    "f = 1      # Applied tip load\n",
    "rho = 1    # Material density\n",
    "beta_t = 3 # Target reliability index\n",
    "\n",
    "# Independent strength parameters\n",
    "median_strength = 1 \n",
    "cov_strength = 0.1\n",
    "# Dependent parameters\n",
    "mu_strength = np.log(median_strength)\n",
    "sig_strength = cov_strength\n"
   ]
  },
  {
   "cell_type": "code",
   "execution_count": 3,
   "id": "secret-developer",
   "metadata": {},
   "outputs": [
    {
     "data": {
      "text/plain": [
       "model: Strength constraint, lognormal marginals\n",
       "\n",
       "  inputs:\n",
       "    var_det:\n",
       "      t: [0, 1]\n",
       "\n",
       "    var_rand:\n",
       "      sigma_y: (-1) lognorm, {'loc': 0, 'scale': 1, 's': 0.1}\n",
       "\n",
       "    copula:\n",
       "      Independence copula\n",
       "\n",
       "  functions:\n",
       "      f0: ['t', 'sigma_y'] -> ['g_strength']"
      ]
     },
     "execution_count": 3,
     "metadata": {},
     "output_type": "execute_result"
    }
   ],
   "source": [
    "md_strength_lognorm = (\n",
    "    gr.Model(\"Strength constraint, lognormal marginals\")\n",
    "    >> gr.cp_vec_function(\n",
    "        fun=lambda df: gr.df_make(\n",
    "            g_strength=(df.t**3 * df.sigma_y) / (6 * f * l) - 1,\n",
    "        ),\n",
    "        var=[\"t\", \"sigma_y\"],\n",
    "        out=[\"g_strength\"],\n",
    "    )\n",
    "    >> gr.cp_bounds(t=(0, 1))\n",
    "    >> gr.cp_marginals(\n",
    "        sigma_y=dict(dist=\"lognorm\", loc=0, scale=median_strength, s=cov_strength, sign=-1),\n",
    "    )\n",
    "    >> gr.cp_copula_independence()\n",
    ")\n",
    "md_strength_lognorm\n"
   ]
  },
  {
   "cell_type": "markdown",
   "id": "upper-tulsa",
   "metadata": {},
   "source": [
    "Create nested model using FORM PMA to approximate the reliability constraint\n"
   ]
  },
  {
   "cell_type": "code",
   "execution_count": 4,
   "id": "synthetic-niger",
   "metadata": {},
   "outputs": [
    {
     "data": {
      "text/plain": [
       "model: Beam\n",
       "\n",
       "  inputs:\n",
       "    var_det:\n",
       "      t: [0.1, 5]\n",
       "\n",
       "    var_rand:\n",
       "\n",
       "    copula:\n",
       "      None\n",
       "\n",
       "  functions:\n",
       "      f0: ['t'] -> ['cost']\n",
       "      f1: ['t'] -> ['g_strength']"
      ]
     },
     "execution_count": 4,
     "metadata": {},
     "output_type": "execute_result"
    }
   ],
   "source": [
    "md_beam = (\n",
    "    gr.Model(\"Beam\")\n",
    "    >> gr.cp_vec_function(\n",
    "        fun=lambda df: gr.df_make(\n",
    "            cost=l * df.t**2 * rho,\n",
    "        ),\n",
    "        var=[\"t\"],\n",
    "        out=[\"cost\"]\n",
    "    )\n",
    "    >> gr.cp_vec_function(\n",
    "        fun=lambda df: \n",
    "            md_strength_lognorm\n",
    "            >> gr.ev_form_pma(\n",
    "                betas=dict(g_strength=beta_t),\n",
    "                df_det=df,\n",
    "            ),\n",
    "        var=[\"t\"],\n",
    "        out=[\"g_strength\"]\n",
    "    )\n",
    "    >> gr.cp_bounds(t=(0.1, 5))\n",
    ")\n",
    "md_beam"
   ]
  },
  {
   "cell_type": "markdown",
   "id": "confirmed-buying",
   "metadata": {},
   "source": [
    "## Compare computational approach with exact solution\n",
    "\n",
    "---\n",
    "\n",
    "First, run the optimization\n"
   ]
  },
  {
   "cell_type": "code",
   "execution_count": 5,
   "id": "continental-letter",
   "metadata": {},
   "outputs": [
    {
     "data": {
      "text/html": [
       "<div>\n",
       "<style scoped>\n",
       "    .dataframe tbody tr th:only-of-type {\n",
       "        vertical-align: middle;\n",
       "    }\n",
       "\n",
       "    .dataframe tbody tr th {\n",
       "        vertical-align: top;\n",
       "    }\n",
       "\n",
       "    .dataframe thead th {\n",
       "        text-align: right;\n",
       "    }\n",
       "</style>\n",
       "<table border=\"1\" class=\"dataframe\">\n",
       "  <thead>\n",
       "    <tr style=\"text-align: right;\">\n",
       "      <th></th>\n",
       "      <th>t</th>\n",
       "      <th>t_0</th>\n",
       "      <th>cost</th>\n",
       "      <th>g_strength</th>\n",
       "      <th>success</th>\n",
       "      <th>message</th>\n",
       "      <th>n_iter</th>\n",
       "    </tr>\n",
       "  </thead>\n",
       "  <tbody>\n",
       "    <tr>\n",
       "      <th>0</th>\n",
       "      <td>2.008229</td>\n",
       "      <td>2.55</td>\n",
       "      <td>4.032983</td>\n",
       "      <td>-3.566702e-11</td>\n",
       "      <td>True</td>\n",
       "      <td>Optimization terminated successfully</td>\n",
       "      <td>5</td>\n",
       "    </tr>\n",
       "  </tbody>\n",
       "</table>\n",
       "</div>"
      ],
      "text/plain": [
       "          t   t_0      cost    g_strength  success  \\\n",
       "0  2.008229  2.55  4.032983 -3.566702e-11     True   \n",
       "\n",
       "                                message  n_iter  \n",
       "0  Optimization terminated successfully       5  "
      ]
     },
     "execution_count": 5,
     "metadata": {},
     "output_type": "execute_result"
    }
   ],
   "source": [
    "df_opt = (\n",
    "    md_beam\n",
    "    >> gr.ev_min(\n",
    "        out_min=\"cost\",\n",
    "        out_geq=[\"g_strength\"],\n",
    "    )\n",
    ")\n",
    "t_opt = df_opt.t[0]\n",
    "df_opt\n"
   ]
  },
  {
   "cell_type": "markdown",
   "id": "alone-vintage",
   "metadata": {},
   "source": [
    "Next, compute using exact solution\n"
   ]
  },
  {
   "cell_type": "code",
   "execution_count": 6,
   "id": "competent-african",
   "metadata": {},
   "outputs": [
    {
     "data": {
      "text/plain": [
       "2.008228833834461"
      ]
     },
     "execution_count": 6,
     "metadata": {},
     "output_type": "execute_result"
    }
   ],
   "source": [
    "g0 = 1 / (6 * f * l)\n",
    "w_s = -1\n",
    "q = -3\n",
    "mu_w = w_s * mu_strength\n",
    "sig_w = np.sqrt(w_s**2 * sig_strength**2)\n",
    "\n",
    "# Median design\n",
    "t_mmi = (g0 * np.exp(-mu_w)) ** (1/q)\n",
    "# Reliability factor\n",
    "f_rmi = np.exp(-beta_t * sig_w) ** (1/q)\n",
    "\n",
    "# Compute reliability-optimized design\n",
    "t_rmi = t_mmi * f_rmi\n",
    "t_rmi"
   ]
  },
  {
   "cell_type": "markdown",
   "id": "determined-automation",
   "metadata": {},
   "source": [
    "Note that the FORM-approximated and exact solution match.\n"
   ]
  },
  {
   "cell_type": "code",
   "execution_count": 7,
   "id": "flexible-cartridge",
   "metadata": {},
   "outputs": [
    {
     "name": "stdout",
     "output_type": "stream",
     "text": [
      "Optimized t: 2.008\n",
      "Exact t:     2.008\n",
      "Diff: 0.000 %\n"
     ]
    }
   ],
   "source": [
    "print(\"Optimized t: {0:4.3f}\".format(t_opt))\n",
    "print(\"Exact t:     {0:4.3f}\".format(t_rmi))\n",
    "print(\"Diff: {0:4.3f} %\".format(100 * (t_rmi - t_opt) / t_opt))\n"
   ]
  },
  {
   "cell_type": "markdown",
   "id": "spread-engineering",
   "metadata": {},
   "source": [
    "## Probe Lognormal Modeling Limitations\n",
    "\n",
    "---\n",
    "\n",
    "*Hypothesis*: At small variances, the lognormal approximation will be relatively accurate.\n"
   ]
  },
  {
   "cell_type": "markdown",
   "id": "utility-sixth",
   "metadata": {},
   "source": [
    "### Single comparison\n",
    "\n",
    "Set up a model with a normal marginal, 10% COV.\n"
   ]
  },
  {
   "cell_type": "code",
   "execution_count": 8,
   "id": "stock-forwarding",
   "metadata": {},
   "outputs": [
    {
     "name": "stdout",
     "output_type": "stream",
     "text": [
      "model: Strength constraint, normal marginals\n",
      "\n",
      "  inputs:\n",
      "    var_det:\n",
      "      t: (unbounded)\n",
      "\n",
      "    var_rand:\n",
      "      sigma_y: (-1) norm, {'loc': 1, 'scale': 0.1}\n",
      "\n",
      "    copula:\n",
      "      Independence copula\n",
      "\n",
      "  functions:\n",
      "      f0: ['t', 'sigma_y'] -> ['g_strength']\n",
      "\n",
      "model: Beam, normal marginal\n",
      "\n",
      "  inputs:\n",
      "    var_det:\n",
      "      t: [0.1, 5]\n",
      "\n",
      "    var_rand:\n",
      "\n",
      "    copula:\n",
      "      None\n",
      "\n",
      "  functions:\n",
      "      f0: ['t'] -> ['cost']\n",
      "      f1: ['t'] -> ['g_strength']\n",
      "\n"
     ]
    }
   ],
   "source": [
    "md_strength_norm = (\n",
    "    gr.Model(\"Strength constraint, normal marginals\")\n",
    "    >> gr.cp_vec_function(\n",
    "        fun=lambda df: gr.df_make(\n",
    "            g_strength=(df.t**3 * df.sigma_y) / (6 * f * l) - 1,\n",
    "        ),\n",
    "        var=[\"t\", \"sigma_y\"],\n",
    "        out=[\"g_strength\"],\n",
    "    )\n",
    "    >> gr.cp_marginals(\n",
    "        sigma_y=dict(dist=\"norm\", loc=1, scale=0.1, sign=-1),\n",
    "    )\n",
    "    >> gr.cp_copula_independence()\n",
    ")\n",
    "print(md_strength_norm)\n",
    "\n",
    "md_beam_norm = (\n",
    "    gr.Model(\"Beam, normal marginal\")\n",
    "    >> gr.cp_vec_function(\n",
    "        fun=lambda df: gr.df_make(\n",
    "            cost=l * df.t**2 * rho,\n",
    "        ),\n",
    "        var=[\"t\"],\n",
    "        out=[\"cost\"]\n",
    "    )\n",
    "    >> gr.cp_vec_function(\n",
    "        fun=lambda df: \n",
    "            md_strength_norm\n",
    "            >> gr.ev_form_pma(\n",
    "                betas=dict(g_strength=beta_t),\n",
    "                df_det=df,\n",
    "            ),\n",
    "        var=[\"t\"],\n",
    "        out=[\"g_strength\"]\n",
    "    )\n",
    "    >> gr.cp_bounds(t=(0.1, 5))\n",
    ")\n",
    "print(md_beam_norm)"
   ]
  },
  {
   "cell_type": "markdown",
   "id": "transparent-purse",
   "metadata": {},
   "source": [
    "Run FORM PMA to optimize the model, respecting its true marginal\n"
   ]
  },
  {
   "cell_type": "code",
   "execution_count": 9,
   "id": "dirty-specific",
   "metadata": {},
   "outputs": [
    {
     "data": {
      "text/html": [
       "<div>\n",
       "<style scoped>\n",
       "    .dataframe tbody tr th:only-of-type {\n",
       "        vertical-align: middle;\n",
       "    }\n",
       "\n",
       "    .dataframe tbody tr th {\n",
       "        vertical-align: top;\n",
       "    }\n",
       "\n",
       "    .dataframe thead th {\n",
       "        text-align: right;\n",
       "    }\n",
       "</style>\n",
       "<table border=\"1\" class=\"dataframe\">\n",
       "  <thead>\n",
       "    <tr style=\"text-align: right;\">\n",
       "      <th></th>\n",
       "      <th>t</th>\n",
       "      <th>t_0</th>\n",
       "      <th>cost</th>\n",
       "      <th>g_strength</th>\n",
       "      <th>success</th>\n",
       "      <th>message</th>\n",
       "      <th>n_iter</th>\n",
       "    </tr>\n",
       "  </thead>\n",
       "  <tbody>\n",
       "    <tr>\n",
       "      <th>0</th>\n",
       "      <td>2.046528</td>\n",
       "      <td>2.55</td>\n",
       "      <td>4.188278</td>\n",
       "      <td>-7.843504e-11</td>\n",
       "      <td>True</td>\n",
       "      <td>Optimization terminated successfully</td>\n",
       "      <td>5</td>\n",
       "    </tr>\n",
       "  </tbody>\n",
       "</table>\n",
       "</div>"
      ],
      "text/plain": [
       "          t   t_0      cost    g_strength  success  \\\n",
       "0  2.046528  2.55  4.188278 -7.843504e-11     True   \n",
       "\n",
       "                                message  n_iter  \n",
       "0  Optimization terminated successfully       5  "
      ]
     },
     "execution_count": 9,
     "metadata": {},
     "output_type": "execute_result"
    }
   ],
   "source": [
    "df_opt_norm = (\n",
    "    md_beam_norm\n",
    "    >> gr.ev_min(\n",
    "        out_min=\"cost\",\n",
    "        out_geq=[\"g_strength\"],\n",
    "    )\n",
    ")\n",
    "t_opt_norm = df_opt_norm.t[0]\n",
    "df_opt_norm\n"
   ]
  },
  {
   "cell_type": "markdown",
   "id": "first-clause",
   "metadata": {},
   "source": [
    "Apply lognormal approximation using PMI methodology\n"
   ]
  },
  {
   "cell_type": "code",
   "execution_count": 10,
   "id": "vietnamese-driving",
   "metadata": {},
   "outputs": [
    {
     "name": "stdout",
     "output_type": "stream",
     "text": [
      "eval_monte_carlo() is rounding n...\n",
      "Design runtime estimates unavailable; model has no timing data.\n"
     ]
    },
    {
     "data": {
      "text/plain": [
       "2.020401865340321"
      ]
     },
     "execution_count": 10,
     "metadata": {},
     "output_type": "execute_result"
    }
   ],
   "source": [
    "## Generate a sample for parameter estimation\n",
    "df_norm_sample = (\n",
    "    md_strength_norm  \n",
    "    >> gr.ev_monte_carlo(n=1e3, df_det=\"nom\", skip=True)\n",
    "    >> gr.tf_summarize(\n",
    "        mu_strength=gr.mean(gr.log(DF.sigma_y)),\n",
    "        sig_strength=gr.sd(gr.log(DF.sigma_y)),\n",
    "    )\n",
    ")\n",
    "\n",
    "# Extract parameter values\n",
    "mu_strength = df_norm_sample.mu_strength[0]\n",
    "sig_strength = df_norm_sample.sig_strength[0]\n",
    "mu_w = w_s * mu_strength\n",
    "sig_w = np.sqrt(w_s**2 * sig_strength**2)\n",
    "\n",
    "# Median design\n",
    "t_mmi_norm = (g0 * np.exp(-mu_w)) ** (1/q)\n",
    "# Reliability factor\n",
    "f_rmi_norm = np.exp(-beta_t * sig_w) ** (1/q)\n",
    "\n",
    "# Compute reliability-optimized design\n",
    "t_rmi_norm = t_mmi_norm * f_rmi_norm\n",
    "t_rmi_norm"
   ]
  },
  {
   "cell_type": "markdown",
   "id": "convertible-democracy",
   "metadata": {},
   "source": [
    "This single run agrees with the hypothesis; at a small variability (COV 10%) the lognormal approximation does not significantly alter the design.\n"
   ]
  },
  {
   "cell_type": "code",
   "execution_count": 11,
   "id": "sound-haven",
   "metadata": {},
   "outputs": [
    {
     "name": "stdout",
     "output_type": "stream",
     "text": [
      "Optimized t: 2.047\n",
      "Lognorm t:   2.020\n",
      "Diff: 1.277 %\n"
     ]
    }
   ],
   "source": [
    "print(\"Optimized t: {0:4.3f}\".format(t_opt_norm))\n",
    "print(\"Lognorm t:   {0:4.3f}\".format(t_rmi_norm))\n",
    "print(\"Diff: {0:4.3f} %\".format(100 * (t_opt_norm - t_rmi_norm) / t_opt_norm))\n"
   ]
  },
  {
   "cell_type": "markdown",
   "id": "simple-explanation",
   "metadata": {},
   "source": [
    "### Sweep comparison\n",
    "\n",
    "Repeat the process above for a range of variabilities\n"
   ]
  },
  {
   "cell_type": "code",
   "execution_count": 12,
   "id": "supreme-alias",
   "metadata": {},
   "outputs": [],
   "source": [
    "# Helper function to carry out comparison at different COV values\n",
    "def eval_cov(cov):\n",
    "    ## Set up model with desired COV\n",
    "    md_strength_norm = (\n",
    "        gr.Model(\"Strength constraint, normal marginals\")\n",
    "        >> gr.cp_vec_function(\n",
    "            fun=lambda df: gr.df_make(\n",
    "                g_strength=(df.t**3 * df.sigma_y) / (6 * f * l) - 1,\n",
    "            ),\n",
    "            var=[\"t\", \"sigma_y\"],\n",
    "            out=[\"g_strength\"],\n",
    "        )\n",
    "        >> gr.cp_marginals(\n",
    "            sigma_y=dict(dist=\"norm\", loc=1, scale=cov, sign=-1),\n",
    "        )\n",
    "        >> gr.cp_copula_independence()\n",
    "    )\n",
    "    md_beam_norm = (\n",
    "        gr.Model(\"Beam, normal marginal\")\n",
    "        >> gr.cp_vec_function(\n",
    "            fun=lambda df: gr.df_make(\n",
    "                cost=l * df.t**2 * rho,\n",
    "            ),\n",
    "            var=[\"t\"],\n",
    "            out=[\"cost\"]\n",
    "        )\n",
    "        >> gr.cp_vec_function(\n",
    "            fun=lambda df: \n",
    "                md_strength_norm\n",
    "                >> gr.ev_form_pma(\n",
    "                    betas=dict(g_strength=beta_t),\n",
    "                    df_det=df,\n",
    "                ),\n",
    "            var=[\"t\"],\n",
    "            out=[\"g_strength\"]\n",
    "        )\n",
    "        >> gr.cp_bounds(t=(0.1, 5))\n",
    "    )\n",
    "    \n",
    "    ## Optimization respecting the marginal\n",
    "    df_opt_norm = (\n",
    "        md_beam_norm\n",
    "        >> gr.ev_min(\n",
    "            out_min=\"cost\",\n",
    "            out_geq=[\"g_strength\"],\n",
    "        )\n",
    "    )\n",
    "    t_opt_norm = df_opt_norm.t[0]\n",
    "    \n",
    "    ## Optimization using lognormal approximation\n",
    "    df_norm_sample = (\n",
    "        md_strength_norm  \n",
    "        >> gr.ev_monte_carlo(n=1e3, df_det=\"nom\", skip=True, seed=101)\n",
    "        >> gr.tf_summarize(\n",
    "            mu_strength=gr.mean(gr.log(DF.sigma_y)),\n",
    "            sig_strength=gr.sd(gr.log(DF.sigma_y)),\n",
    "        )\n",
    "    )\n",
    "    \n",
    "    # Extract parameter values\n",
    "    mu_strength = df_norm_sample.mu_strength[0]\n",
    "    sig_strength = df_norm_sample.sig_strength[0]\n",
    "    mu_w = w_s * mu_strength\n",
    "    sig_w = np.sqrt(w_s**2 * sig_strength**2)\n",
    "    \n",
    "    # Median design\n",
    "    t_mmi_norm = (g0 * np.exp(-mu_w)) ** (1/q)\n",
    "    # Reliability factor\n",
    "    f_rmi_norm = np.exp(-beta_t * sig_w) ** (1/q)\n",
    "    \n",
    "    # Compute reliability-optimized design\n",
    "    t_rmi_norm = t_mmi_norm * f_rmi_norm\n",
    "    t_rmi_norm\n",
    "    \n",
    "    ## Return the results\n",
    "    return gr.df_make(\n",
    "        cov=cov,\n",
    "        t_opt=t_opt_norm,\n",
    "        t_rmi=t_rmi_norm,\n",
    "    )\n"
   ]
  },
  {
   "cell_type": "markdown",
   "id": "forced-infection",
   "metadata": {},
   "source": [
    "Carry out the sweep\n"
   ]
  },
  {
   "cell_type": "code",
   "execution_count": 13,
   "id": "stupid-challenge",
   "metadata": {},
   "outputs": [
    {
     "name": "stdout",
     "output_type": "stream",
     "text": [
      "eval_monte_carlo() is rounding n...\n",
      "Design runtime estimates unavailable; model has no timing data.\n",
      "eval_monte_carlo() is rounding n...\n",
      "Design runtime estimates unavailable; model has no timing data.\n",
      "eval_monte_carlo() is rounding n...\n",
      "Design runtime estimates unavailable; model has no timing data.\n",
      "eval_monte_carlo() is rounding n...\n",
      "Design runtime estimates unavailable; model has no timing data.\n",
      "eval_monte_carlo() is rounding n...\n",
      "Design runtime estimates unavailable; model has no timing data.\n"
     ]
    },
    {
     "data": {
      "text/html": [
       "<div>\n",
       "<style scoped>\n",
       "    .dataframe tbody tr th:only-of-type {\n",
       "        vertical-align: middle;\n",
       "    }\n",
       "\n",
       "    .dataframe tbody tr th {\n",
       "        vertical-align: top;\n",
       "    }\n",
       "\n",
       "    .dataframe thead th {\n",
       "        text-align: right;\n",
       "    }\n",
       "</style>\n",
       "<table border=\"1\" class=\"dataframe\">\n",
       "  <thead>\n",
       "    <tr style=\"text-align: right;\">\n",
       "      <th></th>\n",
       "      <th>cov</th>\n",
       "      <th>t_opt</th>\n",
       "      <th>t_rmi</th>\n",
       "    </tr>\n",
       "  </thead>\n",
       "  <tbody>\n",
       "    <tr>\n",
       "      <th>0</th>\n",
       "      <td>0.01</td>\n",
       "      <td>1.835664</td>\n",
       "      <td>1.835572</td>\n",
       "    </tr>\n",
       "    <tr>\n",
       "      <th>0</th>\n",
       "      <td>0.05</td>\n",
       "      <td>1.918275</td>\n",
       "      <td>1.912323</td>\n",
       "    </tr>\n",
       "    <tr>\n",
       "      <th>0</th>\n",
       "      <td>0.10</td>\n",
       "      <td>2.046528</td>\n",
       "      <td>2.016679</td>\n",
       "    </tr>\n",
       "    <tr>\n",
       "      <th>0</th>\n",
       "      <td>0.20</td>\n",
       "      <td>2.466212</td>\n",
       "      <td>2.271371</td>\n",
       "    </tr>\n",
       "    <tr>\n",
       "      <th>0</th>\n",
       "      <td>0.30</td>\n",
       "      <td>3.914868</td>\n",
       "      <td>2.792139</td>\n",
       "    </tr>\n",
       "  </tbody>\n",
       "</table>\n",
       "</div>"
      ],
      "text/plain": [
       "    cov     t_opt     t_rmi\n",
       "0  0.01  1.835664  1.835572\n",
       "0  0.05  1.918275  1.912323\n",
       "0  0.10  2.046528  2.016679\n",
       "0  0.20  2.466212  2.271371\n",
       "0  0.30  3.914868  2.792139"
      ]
     },
     "execution_count": 13,
     "metadata": {},
     "output_type": "execute_result"
    }
   ],
   "source": [
    "df_sweep = pd.DataFrame()\n",
    "\n",
    "for cov in (0.01, 0.05, 0.1, 0.2, 0.3):\n",
    "    df_tmp = eval_cov(cov)\n",
    "    df_sweep = pd.concat((df_sweep, df_tmp), axis=0)\n",
    "df_sweep\n"
   ]
  },
  {
   "cell_type": "markdown",
   "id": "greatest-engine",
   "metadata": {},
   "source": [
    "Visualize the results\n"
   ]
  },
  {
   "cell_type": "code",
   "execution_count": 14,
   "id": "novel-indonesian",
   "metadata": {},
   "outputs": [
    {
     "data": {
      "image/png": "[encoded data removed]",
      "text/plain": [
       "<Figure size 640x480 with 1 Axes>"
      ]
     },
     "metadata": {
      "needs_background": "light"
     },
     "output_type": "display_data"
    },
    {
     "data": {
      "text/plain": [
       "<ggplot: (8792661294324)>"
      ]
     },
     "execution_count": 14,
     "metadata": {},
     "output_type": "execute_result"
    }
   ],
   "source": [
    "(\n",
    "    df_sweep\n",
    "    >> gr.tf_mutate(diff=(DF.t_opt - DF.t_rmi) / DF.t_opt)\n",
    "    \n",
    "    >> ggplot(aes(\"100 * cov\", \"100 * diff\"))\n",
    "    + geom_line()\n",
    "    + theme_minimal()\n",
    "    + labs(\n",
    "        x=\"Coefficient of Variation (%)\",\n",
    "        y=\"Design Difference (%)\",\n",
    "    )\n",
    ")"
   ]
  },
  {
   "cell_type": "markdown",
   "id": "competent-translation",
   "metadata": {},
   "source": [
    "We can see that the difference in designs varies slowly at small COV values, but begins to depart rapidly at higher COV values. This implies that the lognormal approximation is unsafe to apply in high-variability settings. However, it is important to recall that a $\\text{COV} = 30\\%$ is unrealistic; aircraft-grade metals typically have $\\text{COV} \\leq 5\\%$, and even the most variable composite properties have $\\text{COV} \\approx 20\\%$. Based on the results above, such variabilities place the design difference in the range of $d = \\pm 10\\%$, which is acceptable for conceptual design purposes.\n"
   ]
  }
 ],
 "metadata": {
  "kernelspec": {
   "display_name": "Python 3",
   "language": "python",
   "name": "python3"
  },
  "language_info": {
   "codemirror_mode": {
    "name": "ipython",
    "version": 3
   },
   "file_extension": ".py",
   "mimetype": "text/x-python",
   "name": "python",
   "nbconvert_exporter": "python",
   "pygments_lexer": "ipython3",
   "version": "3.8.5"
  }
 },
 "nbformat": 4,
 "nbformat_minor": 5
}
